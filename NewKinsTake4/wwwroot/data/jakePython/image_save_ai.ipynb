{
 "cells": [
  {
   "cell_type": "code",
   "execution_count": 57,
   "id": "6288098f-52e8-4d9a-a2ca-32ba4a3d56b7",
   "metadata": {},
   "outputs": [],
   "source": [
    "ima_name = '553000'\n",
    "scenario = 'NW_DP_0006'"
   ]
  },
  {
   "cell_type": "code",
   "execution_count": 58,
   "id": "d398d55a-6c8a-4613-a2b8-c5b86a37fa45",
   "metadata": {},
   "outputs": [
    {
     "name": "stdout",
     "output_type": "stream",
     "text": [
      "Image saved successfully!\n"
     ]
    }
   ],
   "source": [
    "from PIL import Image, ImageGrab\n",
    "\n",
    "# Grab the image from the clipboard\n",
    "img = ImageGrab.grabclipboard()\n",
    "\n",
    "# Check if the clipboard contains an image\n",
    "if isinstance(img, Image.Image):\n",
    "    # Resize the image if needed\n",
    "    img = img.resize((1024, 837))\n",
    "\n",
    "    # Save the image\n",
    "    img.save('C:\\\\Users\\\\leeja\\\\source\\\\repos\\\\NewKinsTake4\\\\NewKinsTake4\\\\wwwroot\\\\thumbnailImages\\\\'+ima_name+'.png', 'PNG')\n",
    "    print(\"Image saved successfully!\")\n",
    "else:\n",
    "    print(\"No image found in clipboard.\")\n"
   ]
  },
  {
   "cell_type": "code",
   "execution_count": 56,
   "id": "7944058e-564c-4636-a966-b063bc00ac91",
   "metadata": {},
   "outputs": [
    {
     "name": "stdout",
     "output_type": "stream",
     "text": [
      "Image saved successfully!\n"
     ]
    }
   ],
   "source": [
    "from PIL import Image, ImageGrab\n",
    "\n",
    "# Grab the image from the clipboard\n",
    "img = ImageGrab.grabclipboard()\n",
    "\n",
    "# Check if the clipboard contains an image\n",
    "if isinstance(img, Image.Image):\n",
    "\n",
    "    # Save the image\n",
    "    img.save('C:\\\\Users\\\\leeja\\\\source\\\\repos\\\\NewKinsTake4\\\\NewKinsTake4\\\\wwwroot\\\\screenShotImages\\\\'+ima_name+'.png', 'PNG')\n",
    "    print(\"Image saved successfully!\")\n",
    "else:\n",
    "    print(\"No image found in clipboard.\")\n"
   ]
  },
  {
   "cell_type": "code",
   "execution_count": 54,
   "id": "851be63b-774b-4aea-8f6e-1ba90f001024",
   "metadata": {},
   "outputs": [
    {
     "name": "stdout",
     "output_type": "stream",
     "text": [
      "Image saved successfully!\n"
     ]
    }
   ],
   "source": [
    "from PIL import Image, ImageGrab\n",
    "\n",
    "# Grab the image from the clipboard\n",
    "img = ImageGrab.grabclipboard()\n",
    "\n",
    "# Check if the clipboard contains an image\n",
    "if isinstance(img, Image.Image):\n",
    "\n",
    "    # Save the image\n",
    "    img.save('C:\\\\Users\\\\leeja\\\\source\\\\repos\\\\NewKinsTake4\\\\NewKinsTake4\\\\wwwroot\\\\relatedPictureImages\\\\'+ima_name+'.png', 'PNG')\n",
    "    print(\"Image saved successfully!\")\n",
    "else:\n",
    "    print(\"No image found in clipboard.\")\n"
   ]
  },
  {
   "cell_type": "code",
   "execution_count": 48,
   "id": "929e1b5f-d277-4253-9349-c02808148a28",
   "metadata": {},
   "outputs": [
    {
     "name": "stdout",
     "output_type": "stream",
     "text": [
      "Image saved successfully!\n"
     ]
    }
   ],
   "source": [
    "from PIL import Image, ImageGrab\n",
    "\n",
    "# Grab the image from the clipboard\n",
    "img = ImageGrab.grabclipboard()\n",
    "\n",
    "# Check if the clipboard contains an image\n",
    "if isinstance(img, Image.Image):\n",
    "    img = img.resize((1024, 837))\n",
    "\n",
    "    # Save the image\n",
    "    img.save('C:\\\\Users\\\\leeja\\\\source\\\\repos\\\\NewKinsTake4\\\\NewKinsTake4\\\\wwwroot\\\\scenarioImages\\\\'+scenario+'.png', 'PNG')\n",
    "    print(\"Image saved successfully!\")\n",
    "else:\n",
    "    print(\"No image found in clipboard.\")\n"
   ]
  },
  {
   "cell_type": "code",
   "execution_count": null,
   "id": "ef40fb88-8c53-4b56-b6e1-52da9953ca5f",
   "metadata": {},
   "outputs": [],
   "source": []
  },
  {
   "cell_type": "code",
   "execution_count": null,
   "id": "2a70723c-aa5e-466b-855e-298ff1fcbd72",
   "metadata": {},
   "outputs": [],
   "source": []
  }
 ],
 "metadata": {
  "kernelspec": {
   "display_name": "Python 3 (ipykernel)",
   "language": "python",
   "name": "python3"
  },
  "language_info": {
   "codemirror_mode": {
    "name": "ipython",
    "version": 3
   },
   "file_extension": ".py",
   "mimetype": "text/x-python",
   "name": "python",
   "nbconvert_exporter": "python",
   "pygments_lexer": "ipython3",
   "version": "3.12.4"
  }
 },
 "nbformat": 4,
 "nbformat_minor": 5
}

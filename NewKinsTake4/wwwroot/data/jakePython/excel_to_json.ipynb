{
 "cells": [
  {
   "cell_type": "code",
   "execution_count": 12,
   "id": "c16ec8a4-7200-4811-9adb-844859a6ac57",
   "metadata": {},
   "outputs": [
    {
     "name": "stdout",
     "output_type": "stream",
     "text": [
      "Converting Excel to JSON...\n",
      "Process complete! JSON saved at C:\\Users\\leeja\\source\\repos\\NewKinsTake4\\NewKinsTake4\\wwwroot\\data\\workflow_QO_SE.json.\n"
     ]
    }
   ],
   "source": [
    "import pandas as pd\n",
    "import json\n",
    "\n",
    "domain_code = \"QO_SE\"\n",
    "\n",
    "# Define the folder path\n",
    "folder_path_source = r\"C:\\Users\\leeja\\source\\repos\\NewKinsTake4\\NewKinsTake4\\wwwroot\\data\"\n",
    "folder_path_bin = r\"C:\\Users\\leeja\\source\\repos\\NewKinsTake4\\NewKinsTake4\\bin\\Debug\\net8.0\\wwwroot\\data\"\n",
    "\n",
    "# File paths\n",
    "excel_file_path = f\"test.xlsx\"  # Input Excel file\n",
    "output_json_path = f\"{folder_path_source}\\\\workflow_{domain_code}.json\"   # Output JSON file\n",
    "output_json_path_bin = f\"{folder_path_bin}\\\\workflow_{domain_code}.json\"   # Output JSON file\n",
    "\n",
    "# Step 1: Convert Excel to JSON\n",
    "def excel_to_json(excel_path, json_path, json_path_bin):\n",
    "    # Read the Excel file\n",
    "    df = pd.read_excel(excel_path, sheet_name=f\"workflow_{domain_code}\", dtype={\"DisplayLayoutRow\": str, \"DisplayLayoutColumn\": str, \"KinsPageNumber\": str})\n",
    "    \n",
    "    # Replace NaN (empty cells) with an empty string\n",
    "    df = df.fillna(\"\")\n",
    "    \n",
    "    # Convert the DataFrame to JSON format\n",
    "    json_data = {\"Workflow\": df.to_dict(orient=\"records\")}\n",
    "    \n",
    "    # Save JSON to file of source cod\n",
    "    with open(json_path, \"w\", encoding=\"utf-8\") as f:\n",
    "        json.dump(json_data, f, ensure_ascii=False, indent=4)\n",
    "\n",
    "\n",
    "    # Save JSON to file of bin\n",
    "    with open(json_path_bin, \"w\", encoding=\"utf-8\") as f:\n",
    "        json.dump(json_data, f, ensure_ascii=False, indent=4)\n",
    "\n",
    "\n",
    "# Main script\n",
    "if __name__ == \"__main__\":\n",
    "    print(\"Converting Excel to JSON...\")\n",
    "    excel_to_json(excel_file_path, output_json_path, output_json_path_bin)\n",
    "    print(f\"Process complete! JSON saved at {output_json_path}.\")\n"
   ]
  }
 ],
 "metadata": {
  "kernelspec": {
   "display_name": "Python 3 (ipykernel)",
   "language": "python",
   "name": "python3"
  },
  "language_info": {
   "codemirror_mode": {
    "name": "ipython",
    "version": 3
   },
   "file_extension": ".py",
   "mimetype": "text/x-python",
   "name": "python",
   "nbconvert_exporter": "python",
   "pygments_lexer": "ipython3",
   "version": "3.12.4"
  }
 },
 "nbformat": 4,
 "nbformat_minor": 5
}

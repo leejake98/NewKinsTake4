{
 "cells": [
  {
   "cell_type": "code",
   "execution_count": 2,
   "id": "b989c9a1-ffe9-4674-83e9-2dd1a552e440",
   "metadata": {},
   "outputs": [
    {
     "name": "stdout",
     "output_type": "stream",
     "text": [
      "Excel workbook saved to C:\\Users\\leeja\\Source\\Repos\\NewKinsTake4\\NewKinsTake4\\wwwroot\\data\\jakePython\\test.xlsx\n"
     ]
    }
   ],
   "source": [
    "import os\n",
    "import json\n",
    "import pandas as pd\n",
    "\n",
    "def convert_json_to_excel(input_folder, output_file):\n",
    "    # Get all JSON files in the folder matching the naming pattern\n",
    "    json_files = [f for f in os.listdir(input_folder) if f.startswith(\"workflow_\") and f.endswith(\".json\")]\n",
    "    \n",
    "    # Create a Pandas Excel writer\n",
    "    with pd.ExcelWriter(output_file, engine='xlsxwriter') as writer:\n",
    "        for file in json_files:\n",
    "            # Construct the full file path\n",
    "            file_path = os.path.join(input_folder, file)\n",
    "            \n",
    "            # Read the JSON file\n",
    "            with open(file_path, encoding=\"utf-8\") as json_file:\n",
    "                data = json.load(json_file)\n",
    "            \n",
    "            # Convert JSON data to a DataFrame\n",
    "            if \"Workflow\" in data:\n",
    "                df = pd.DataFrame(data[\"Workflow\"])\n",
    "                \n",
    "                # Add a new sheet to the Excel workbook with the file name as the sheet name\n",
    "                sheet_name = os.path.splitext(file)[0]  # Remove the file extension\n",
    "                df.to_excel(writer, sheet_name=sheet_name[:31], index=False)  # Excel sheet names have a max length of 31\n",
    "            else:\n",
    "                print(f\"Skipping {file} as it does not contain 'Workflow' data.\")\n",
    "    \n",
    "    print(f\"Excel workbook saved to {output_file}\")\n",
    "\n",
    "# Input folder path and output file path\n",
    "input_folder = r\"C:\\Users\\leeja\\Source\\Repos\\NewKinsTake4\\NewKinsTake4\\wwwroot\\data\"\n",
    "output_file = r\"C:\\Users\\leeja\\Source\\Repos\\NewKinsTake4\\NewKinsTake4\\wwwroot\\data\\jakePython\\test.xlsx\"\n",
    "\n",
    "# Run the conversion\n",
    "convert_json_to_excel(input_folder, output_file)\n",
    "\n",
    "\n"
   ]
  }
 ],
 "metadata": {
  "kernelspec": {
   "display_name": "Python 3 (ipykernel)",
   "language": "python",
   "name": "python3"
  },
  "language_info": {
   "codemirror_mode": {
    "name": "ipython",
    "version": 3
   },
   "file_extension": ".py",
   "mimetype": "text/x-python",
   "name": "python",
   "nbconvert_exporter": "python",
   "pygments_lexer": "ipython3",
   "version": "3.12.4"
  }
 },
 "nbformat": 4,
 "nbformat_minor": 5
}

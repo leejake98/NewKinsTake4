{
 "cells": [
  {
   "cell_type": "code",
   "execution_count": 1,
   "id": "7a30dd8b-c9db-4037-ae58-6cee2ebdf399",
   "metadata": {},
   "outputs": [
    {
     "name": "stdout",
     "output_type": "stream",
     "text": [
      "Data from table 'Workflow' has been exported to C:\\Users\\leeja\\Downloads\\Workflow.json\n"
     ]
    }
   ],
   "source": [
    "import sqlite3\n",
    "import json\n",
    "import os\n",
    "\n",
    "def extract_table_to_json_excluding_columns(db_file, table_name, excluded_columns):\n",
    "    try:\n",
    "        # Get the directory of the input database file\n",
    "        output_dir = os.path.dirname(db_file)\n",
    "        output_json_file = os.path.join(output_dir, f\"{table_name}.json\")\n",
    "\n",
    "        # Connect to the SQLite database\n",
    "        conn = sqlite3.connect(db_file)\n",
    "        cursor = conn.cursor()\n",
    "\n",
    "        # Fetch all rows from the specified table\n",
    "        cursor.execute(f\"SELECT * FROM {table_name}\")\n",
    "        rows = cursor.fetchall()\n",
    "\n",
    "        # Get column names from the table\n",
    "        column_names = [description[0] for description in cursor.description]\n",
    "\n",
    "        # Filter out excluded columns\n",
    "        filtered_columns = [col for col in column_names if col not in excluded_columns]\n",
    "        filtered_data = [\n",
    "            {col: row[i] for i, col in enumerate(column_names) if col in filtered_columns}\n",
    "            for row in rows\n",
    "        ]\n",
    "\n",
    "        # Write the filtered table data to a JSON file\n",
    "        with open(output_json_file, 'w', encoding='utf-8') as f:\n",
    "            json.dump({table_name: filtered_data}, f, indent=4, ensure_ascii=False)\n",
    "\n",
    "        print(f\"Data from table '{table_name}' has been exported to {output_json_file}\")\n",
    "\n",
    "    except sqlite3.Error as e:\n",
    "        print(f\"SQLite error: {e}\")\n",
    "    finally:\n",
    "        if conn:\n",
    "            conn.close()\n",
    "\n",
    "# Input parameters\n",
    "input_db_file = r\"C:\\Users\\leeja\\Downloads\\NewKinsWithImageDb.db3\"\n",
    "table_name = \"Workflow\"\n",
    "excluded_columns = [\"Id\", \"SortingIndex\"]\n",
    "\n",
    "# Call the function to export data\n",
    "extract_table_to_json_excluding_columns(input_db_file, table_name, excluded_columns)\n"
   ]
  }
 ],
 "metadata": {
  "kernelspec": {
   "display_name": "Python 3 (ipykernel)",
   "language": "python",
   "name": "python3"
  },
  "language_info": {
   "codemirror_mode": {
    "name": "ipython",
    "version": 3
   },
   "file_extension": ".py",
   "mimetype": "text/x-python",
   "name": "python",
   "nbconvert_exporter": "python",
   "pygments_lexer": "ipython3",
   "version": "3.12.4"
  }
 },
 "nbformat": 4,
 "nbformat_minor": 5
}
